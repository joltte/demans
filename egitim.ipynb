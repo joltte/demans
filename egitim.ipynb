{
 "cells": [
  {
   "cell_type": "code",
   "execution_count": 11,
   "metadata": {},
   "outputs": [
    {
     "name": "stdout",
     "output_type": "stream",
     "text": [
      "Sınıf isimleri: ['Mild Dementia', 'Moderate Dementia', 'Non Demented', 'Very mild Dementia']\n"
     ]
    }
   ],
   "source": [
    "import torch\n",
    "from torchvision import datasets, transforms\n",
    "from torch.utils.data import DataLoader, WeightedRandomSampler, Subset\n",
    "import numpy as np\n",
    "import torch.nn as nn\n",
    "import torch.nn.functional as F\n",
    "import torch.optim as optim\n",
    "from tqdm import tqdm\n",
    "import matplotlib.pyplot as plt\n",
    "\n",
    "# Veri dönüşümleri (Normalize)\n",
    "transform = transforms.Compose([\n",
    "    transforms.Grayscale(),\n",
    "    transforms.Resize((224, 224)),\n",
    "    transforms.ToTensor(),\n",
    "    transforms.Normalize((0.5,), (0.5,))\n",
    "])\n",
    "\n",
    "# Veri setini yükleme\n",
    "dataset = datasets.ImageFolder('Data', transform=transform)\n",
    "class_names = dataset.classes \n",
    "print(f\"Sınıf isimleri: {class_names}\")\n",
    "\n",
    "# Veri setinin bir alt kümesini seçme (örneğin %10)\n",
    "subset_indices = np.random.choice(len(dataset), size=int(0.1 * len(dataset)), replace=False)\n",
    "subset_indices = sorted(subset_indices)  # İndeksleri sıralamak hataları önleyebilir\n",
    "subset = Subset(dataset, subset_indices)\n",
    "\n",
    "# Veri setini eğitim ve doğrulama olarak bölme\n",
    "train_size = int(0.8 * len(subset))\n",
    "valid_size = len(subset) - train_size\n",
    "train_subset, valid_subset = torch.utils.data.random_split(subset, [train_size, valid_size])\n",
    "\n",
    "# Eğitim ve doğrulama veri yükleyicileri\n",
    "train_loader = DataLoader(train_subset, batch_size=32, shuffle=True)\n",
    "valid_loader = DataLoader(valid_subset, batch_size=32, shuffle=False)\n",
    "\n",
    "# Sınıf örneklem sayıları\n",
    "class_counts = [5000, 488, 67222, 13725]\n",
    "class_weights = 1. / torch.tensor(class_counts, dtype=torch.float)\n",
    "\n",
    "# Veri yükleyicilere ağırlıklı sampler ekleme\n",
    "train_sampler_weights = [class_weights[dataset.targets[idx]] for idx in subset_indices[:train_size]]\n",
    "train_sampler = WeightedRandomSampler(weights=train_sampler_weights, num_samples=len(train_sampler_weights), replacement=True)\n",
    "\n",
    "train_loader = DataLoader(train_subset, batch_size=32, sampler=train_sampler)\n",
    "valid_loader = DataLoader(valid_subset, batch_size=32, shuffle=False)\n"
   ]
  },
  {
   "cell_type": "code",
   "execution_count": 12,
   "metadata": {},
   "outputs": [
    {
     "data": {
      "text/plain": [
       "CNNModel(\n",
       "  (conv1): Conv2d(1, 32, kernel_size=(3, 3), stride=(1, 1), padding=(1, 1))\n",
       "  (conv2): Conv2d(32, 64, kernel_size=(3, 3), stride=(1, 1), padding=(1, 1))\n",
       "  (pool): MaxPool2d(kernel_size=2, stride=2, padding=0, dilation=1, ceil_mode=False)\n",
       "  (fc1): Linear(in_features=200704, out_features=128, bias=True)\n",
       "  (fc2): Linear(in_features=128, out_features=4, bias=True)\n",
       ")"
      ]
     },
     "execution_count": 12,
     "metadata": {},
     "output_type": "execute_result"
    }
   ],
   "source": [
    "# Modelin tanımlanması\n",
    "class CNNModel(nn.Module):\n",
    "    def __init__(self, num_classes):\n",
    "        super(CNNModel, self).__init__()\n",
    "        self.conv1 = nn.Conv2d(1, 32, kernel_size=3, padding=1)\n",
    "        self.conv2 = nn.Conv2d(32, 64, kernel_size=3, padding=1)\n",
    "        self.pool = nn.MaxPool2d(2, 2)\n",
    "        self.fc1 = nn.Linear(64 * 56 * 56, 128)\n",
    "        self.fc2 = nn.Linear(128, num_classes)\n",
    "\n",
    "    def forward(self, x):\n",
    "        x = self.pool(F.relu(self.conv1(x)))\n",
    "        x = self.pool(F.relu(self.conv2(x)))\n",
    "        x = x.view(-1, 64 * 56 * 56)\n",
    "        x = F.relu(self.fc1(x))\n",
    "        x = self.fc2(x)\n",
    "        return x\n",
    "\n",
    "# Sınıf sayısını belirleme\n",
    "num_classes = len(class_counts)\n",
    "model = CNNModel(num_classes)\n",
    "\n",
    "# Cihaz seçimi (GPU varsa kullan)\n",
    "device = torch.device(\"cuda\" if torch.cuda.is_available() else \"cpu\")\n",
    "model.to(device)\n",
    "\n",
    "\n"
   ]
  },
  {
   "cell_type": "code",
   "execution_count": 13,
   "metadata": {},
   "outputs": [],
   "source": [
    "# Hiperparametreler\n",
    "learning_rate = 0.001\n",
    "epochs = 10\n",
    "\n",
    "# Kayıp fonksiyonu ve optimizer\n",
    "criterion = nn.CrossEntropyLoss(weight=class_weights.to(device))\n",
    "optimizer = optim.Adam(model.parameters(), lr=learning_rate)\n",
    "\n",
    "\n"
   ]
  },
  {
   "cell_type": "code",
   "execution_count": 14,
   "metadata": {},
   "outputs": [],
   "source": [
    "# Eğitim, doğrulama ve grafik fonksiyonları\n",
    "train_losses = []\n",
    "valid_losses = []\n",
    "valid_accuracies = []\n",
    "\n",
    "def train_model(model, train_loader, criterion, optimizer, epochs):\n",
    "    model.train()\n",
    "    \n",
    "    running_loss = 0.0\n",
    "    progress_bar = tqdm(train_loader, desc=f\"Epoch {epochs} \")\n",
    "    epoch=0\n",
    "    for inputs, labels in progress_bar:\n",
    "        inputs, labels = inputs.to(device), labels.to(device)\n",
    "\n",
    "        optimizer.zero_grad()\n",
    "        outputs = model(inputs)\n",
    "        loss = criterion(outputs, labels)\n",
    "        loss.backward()\n",
    "        optimizer.step()\n",
    "\n",
    "        running_loss += loss.item()\n",
    "        progress_bar.set_postfix(loss=running_loss/len(train_loader))\n",
    "    epoch+=1\n",
    "    train_losses.append(running_loss/len(train_loader))\n",
    "    print(f\"Epoch {epoch+1}/{epochs}, Loss: {running_loss/len(train_loader)}\")\n",
    "\n",
    "def validate_model(model, valid_loader, criterion):\n",
    "    model.eval()\n",
    "    valid_loss = 0.0\n",
    "    correct = 0\n",
    "    total = 0\n",
    "    with torch.no_grad():\n",
    "        for inputs, labels in valid_loader:\n",
    "            inputs, labels = inputs.to(device), labels.to(device)\n",
    "            outputs = model(inputs)\n",
    "            loss = criterion(outputs, labels)\n",
    "            valid_loss += loss.item()\n",
    "\n",
    "            _, predicted = torch.max(outputs, 1)\n",
    "            total += labels.size(0)\n",
    "            correct += (predicted == labels).sum().item()\n",
    "\n",
    "    accuracy = 100 * correct / total\n",
    "    valid_losses.append(valid_loss/len(valid_loader))\n",
    "    valid_accuracies.append(accuracy)\n",
    "    print(f\"Validation Loss: {valid_loss/len(valid_loader)}, Accuracy: {accuracy}%\")\n",
    "\n",
    "def plot_metrics(train_losses, valid_losses, valid_accuracies):\n",
    "    epochs = range(1, len(train_losses) + 1)\n",
    "\n",
    "    plt.figure(figsize=(12, 4))\n",
    "    plt.subplot(1, 2, 1)\n",
    "    plt.plot(epochs, train_losses, label='Training Loss')\n",
    "    plt.plot(epochs, valid_losses, label='Validation Loss')\n",
    "    plt.xlabel('Epochs')\n",
    "    plt.ylabel('Loss')\n",
    "    plt.title('Training and Validation Loss')\n",
    "    plt.legend()\n",
    "\n",
    "    plt.subplot(1, 2, 2)\n",
    "    plt.plot(epochs, valid_accuracies, label='Validation Accuracy')\n",
    "    plt.xlabel('Epochs')\n",
    "    plt.ylabel('Accuracy')\n",
    "    plt.title('Validation Accuracy')\n",
    "    plt.legend()\n",
    "\n",
    "    plt.show()\n",
    "\n",
    "def save_model(model, path):\n",
    "    torch.save(model.state_dict(), path)\n",
    "\n",
    "\n"
   ]
  },
  {
   "cell_type": "code",
   "execution_count": 15,
   "metadata": {},
   "outputs": [
    {
     "name": "stderr",
     "output_type": "stream",
     "text": [
      "Epoch 0 : 100%|██████████| 217/217 [02:15<00:00,  1.61it/s, loss=1.18] \n"
     ]
    },
    {
     "name": "stdout",
     "output_type": "stream",
     "text": [
      "Epoch 2/0, Loss: 1.184230613200346\n",
      "Validation Loss: 1.0985536233945326, Accuracy: 70.3875072296125%\n"
     ]
    },
    {
     "name": "stderr",
     "output_type": "stream",
     "text": [
      "Epoch 1 : 100%|██████████| 217/217 [02:18<00:00,  1.56it/s, loss=0.332]\n"
     ]
    },
    {
     "name": "stdout",
     "output_type": "stream",
     "text": [
      "Epoch 2/1, Loss: 0.33156277957771507\n",
      "Validation Loss: 1.1481094346805052, Accuracy: 83.51648351648352%\n"
     ]
    },
    {
     "name": "stderr",
     "output_type": "stream",
     "text": [
      "Epoch 2 : 100%|██████████| 217/217 [02:18<00:00,  1.56it/s, loss=0.23]  \n"
     ]
    },
    {
     "name": "stdout",
     "output_type": "stream",
     "text": [
      "Epoch 2/2, Loss: 0.22987960151091974\n",
      "Validation Loss: 0.7792621187188409, Accuracy: 85.07807981492192%\n"
     ]
    },
    {
     "name": "stderr",
     "output_type": "stream",
     "text": [
      "Epoch 3 : 100%|██████████| 217/217 [02:46<00:00,  1.31it/s, loss=0.139] \n"
     ]
    },
    {
     "name": "stdout",
     "output_type": "stream",
     "text": [
      "Epoch 2/3, Loss: 0.13908037387074962\n",
      "Validation Loss: 0.8831057724627581, Accuracy: 88.43262001156738%\n"
     ]
    },
    {
     "name": "stderr",
     "output_type": "stream",
     "text": [
      "Epoch 4 : 100%|██████████| 217/217 [02:44<00:00,  1.32it/s, loss=0.125] \n"
     ]
    },
    {
     "name": "stdout",
     "output_type": "stream",
     "text": [
      "Epoch 2/4, Loss: 0.12528127917487705\n",
      "Validation Loss: 0.6435198261656544, Accuracy: 87.27588201272413%\n"
     ]
    },
    {
     "name": "stderr",
     "output_type": "stream",
     "text": [
      "Epoch 5 : 100%|██████████| 217/217 [02:43<00:00,  1.33it/s, loss=0.0924]\n"
     ]
    },
    {
     "name": "stdout",
     "output_type": "stream",
     "text": [
      "Epoch 2/5, Loss: 0.09235989367632273\n",
      "Validation Loss: 0.7290980089794505, Accuracy: 79.2943898207056%\n"
     ]
    },
    {
     "name": "stderr",
     "output_type": "stream",
     "text": [
      "Epoch 6 : 100%|██████████| 217/217 [02:44<00:00,  1.32it/s, loss=0.0974]\n"
     ]
    },
    {
     "name": "stdout",
     "output_type": "stream",
     "text": [
      "Epoch 2/6, Loss: 0.09740423195682088\n",
      "Validation Loss: 0.6382051780142567, Accuracy: 91.96067090803933%\n"
     ]
    },
    {
     "name": "stderr",
     "output_type": "stream",
     "text": [
      "Epoch 7 : 100%|██████████| 217/217 [02:45<00:00,  1.31it/s, loss=0.0383]\n"
     ]
    },
    {
     "name": "stdout",
     "output_type": "stream",
     "text": [
      "Epoch 2/7, Loss: 0.038251212756482085\n",
      "Validation Loss: 0.789022379537875, Accuracy: 93.00173510699827%\n"
     ]
    },
    {
     "name": "stderr",
     "output_type": "stream",
     "text": [
      "Epoch 8 : 100%|██████████| 217/217 [02:44<00:00,  1.32it/s, loss=0.088] \n"
     ]
    },
    {
     "name": "stdout",
     "output_type": "stream",
     "text": [
      "Epoch 2/8, Loss: 0.08798357601007147\n",
      "Validation Loss: 0.3821315485814756, Accuracy: 91.67148640832852%\n"
     ]
    },
    {
     "name": "stderr",
     "output_type": "stream",
     "text": [
      "Epoch 9 : 100%|██████████| 217/217 [02:44<00:00,  1.32it/s, loss=0.0691]\n"
     ]
    },
    {
     "name": "stdout",
     "output_type": "stream",
     "text": [
      "Epoch 2/9, Loss: 0.06912088958484289\n",
      "Validation Loss: 0.3947373376312581, Accuracy: 93.4065934065934%\n"
     ]
    },
    {
     "data": {
      "image/png": "[encoded data removed]",
      "text/plain": [
       "<Figure size 1200x400 with 2 Axes>"
      ]
     },
     "metadata": {},
     "output_type": "display_data"
    },
    {
     "name": "stdout",
     "output_type": "stream",
     "text": [
      "Model 4 sınıf ile başarıyla eğitildi ve kaydedildi.\n"
     ]
    }
   ],
   "source": [
    "# Model eğitimi ve doğrulama\n",
    "\n",
    "for epoch in range(epochs): \n",
    "    train_model(model, train_loader, criterion, optimizer, epoch) \n",
    "    validate_model(model, valid_loader, criterion)\n",
    "# Performans grafikleri\n",
    "plot_metrics(train_losses, valid_losses, valid_accuracies)\n",
    "\n",
    "# Modeli kaydet\n",
    "save_model(model, 'demans_model.pth')\n",
    "print(f\"Model {num_classes} sınıf ile başarıyla eğitildi ve kaydedildi.\")\n",
    "\n"
   ]
  }
 ],
 "metadata": {
  "kernelspec": {
   "display_name": "Python 3",
   "language": "python",
   "name": "python3"
  },
  "language_info": {
   "codemirror_mode": {
    "name": "ipython",
    "version": 3
   },
   "file_extension": ".py",
   "mimetype": "text/x-python",
   "name": "python",
   "nbconvert_exporter": "python",
   "pygments_lexer": "ipython3",
   "version": "3.11.4"
  }
 },
 "nbformat": 4,
 "nbformat_minor": 2
}
